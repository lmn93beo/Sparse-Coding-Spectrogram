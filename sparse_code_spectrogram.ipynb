{
 "cells": [
  {
   "cell_type": "code",
   "execution_count": 1,
   "metadata": {
    "collapsed": true
   },
   "outputs": [],
   "source": [
    "import numpy as np\n",
    "import matplotlib.pyplot as plt\n",
    "import seaborn\n",
    "import scipy.io.wavfile\n",
    "import scipy.signal\n",
    "import glob\n",
    "from sklearn.decomposition import PCA\n",
    "\n",
    "%matplotlib inline"
   ]
  },
  {
   "cell_type": "code",
   "execution_count": 2,
   "metadata": {
    "collapsed": true
   },
   "outputs": [],
   "source": [
    "def C_L0_norm(x):\n",
    "    '''L0 norm function for each element of a vector'''\n",
    "    if x != 0:\n",
    "        return 0.0\n",
    "    else:\n",
    "        return 1.0\n",
    "\n",
    "def C_L1_norm(x):\n",
    "    '''L1 norm function for each element of a vector'''\n",
    "    return abs(x)\n",
    "\n",
    "def C_L0_norm_deriv(x):\n",
    "    '''Derivative of C_L0_norm'''\n",
    "    if x != 0:\n",
    "        return 0.0\n",
    "    else:\n",
    "        return np.inf\n",
    "    \n",
    "def C_L1_norm(x):\n",
    "    '''Derivative of C_L1_norm'''\n",
    "    if x < 0:\n",
    "        return -1.0\n",
    "    elif x > 0:\n",
    "        return 1.0\n",
    "    else:\n",
    "        return np.inf"
   ]
  },
  {
   "cell_type": "code",
   "execution_count": 73,
   "metadata": {
    "collapsed": true
   },
   "outputs": [],
   "source": [
    "def T(um, lamb, norm_type):\n",
    "    '''Threshold function as described'''\n",
    "    if norm_type == 'L0':\n",
    "        return max(um, 0.0)\n",
    "    elif norm_type == 'L1':\n",
    "        return max(um - lamb, 0.0)\n",
    "    else:\n",
    "        raise ValueError('Invalid norm type')\n",
    "\n",
    "def find_u_dot(tau, u, A, y, lamb):\n",
    "    s = T_vec(u, lamb, 'L0')\n",
    "    b = np.dot(A.T, y)\n",
    "    A_shift = np.dot(A.T, A) - np.identity(A.shape[1])\n",
    "    return (b - u - np.dot(A_shift, s)) / tau\n",
    "    \n",
    "T_vec = np.vectorize(T)\n",
    "\n",
    "def find_s(tau, A, y, lamb, niter=100):\n",
    "    # Initialize\n",
    "    u = np.zeros(A.shape[1], dtype='float')\n",
    "    for i in range(niter):\n",
    "        udot = find_u_dot(tau, u, A, y, lamb)\n",
    "        #print(udot)\n",
    "        u += udot * 0.001\n",
    "        #print('u=', u)\n",
    "    return T_vec(u, lamb, 'L1')"
   ]
  },
  {
   "cell_type": "code",
   "execution_count": 85,
   "metadata": {
    "collapsed": true
   },
   "outputs": [],
   "source": [
    "b = np.array([1, 1, 3], dtype='float')\n",
    "A = np.array([[1,3,4, 8], [4,5,6, 2], [0,8,11, 3]], dtype='float')\n",
    "s = np.array([3,3,4], dtype='float')\n",
    "u = np.array([5, -4, 3], dtype='float')\n",
    "y = np.array([30, 49, 79], dtype='float')\n",
    "tau = 1.0\n",
    "lamb = 0.001"
   ]
  },
  {
   "cell_type": "code",
   "execution_count": 87,
   "metadata": {},
   "outputs": [
    {
     "data": {
      "text/plain": [
       "array([ 30.2750583 ,  48.67112009,  79.00564512])"
      ]
     },
     "execution_count": 87,
     "metadata": {},
     "output_type": "execute_result"
    }
   ],
   "source": [
    "v = find_s(tau, A, y, lamb, niter=100)\n",
    "np.dot(A,v)"
   ]
  },
  {
   "cell_type": "code",
   "execution_count": 23,
   "metadata": {
    "collapsed": true
   },
   "outputs": [],
   "source": [
    "def learn_step(y, A, s, eta):\n",
    "    r = y - np.dot(A, s)\n",
    "    A_new = A + eta * (np.dot(r, s.T))\n",
    "    return A_new"
   ]
  },
  {
   "cell_type": "code",
   "execution_count": 24,
   "metadata": {},
   "outputs": [
    {
     "data": {
      "text/plain": [
       "array([[-25.1, -23.1, -22.1],\n",
       "       [-30.1, -21.1, -32.1],\n",
       "       [-26.1, -18.1, -15.1]])"
      ]
     },
     "execution_count": 24,
     "metadata": {},
     "output_type": "execute_result"
    }
   ],
   "source": [
    "\n",
    "eta = 0.1\n",
    "learn_step(y, A, s, eta)"
   ]
  },
  {
   "cell_type": "code",
   "execution_count": 41,
   "metadata": {
    "collapsed": true
   },
   "outputs": [],
   "source": [
    "# Read in sound file\n",
    "fs, sound = scipy.io.wavfile.read('American-English/Consonants/azure.wav')"
   ]
  },
  {
   "cell_type": "code",
   "execution_count": 62,
   "metadata": {
    "collapsed": true
   },
   "outputs": [],
   "source": [
    "soundfiles = glob.glob('./American-English/*/*.wav')\n",
    "sound_combined = np.zeros(0)\n",
    "for file in soundfiles:\n",
    "    fs, sound = scipy.io.wavfile.read(file)\n",
    "    sound_combined = np.concatenate((sound_combined, sound))"
   ]
  },
  {
   "cell_type": "code",
   "execution_count": 63,
   "metadata": {},
   "outputs": [
    {
     "data": {
      "text/plain": [
       "(1259716,)"
      ]
     },
     "execution_count": 63,
     "metadata": {},
     "output_type": "execute_result"
    }
   ],
   "source": [
    "sound_combined.shape"
   ]
  },
  {
   "cell_type": "code",
   "execution_count": 64,
   "metadata": {
    "collapsed": true
   },
   "outputs": [],
   "source": [
    "f,t,spectrogram = scipy.signal.spectrogram(sound_combined, fs)"
   ]
  },
  {
   "cell_type": "code",
   "execution_count": 82,
   "metadata": {},
   "outputs": [
    {
     "data": {
      "image/png": "[encoded data removed]",
      "text/plain": [
       "<matplotlib.figure.Figure at 0x247179449b0>"
      ]
     },
     "metadata": {},
     "output_type": "display_data"
    }
   ],
   "source": [
    "plt.figure(figsize=(20,20))\n",
    "plt.imshow(np.flipud(spectrogram)[:,:400], cmap='viridis');\n",
    "plt.grid(False)"
   ]
  },
  {
   "cell_type": "code",
   "execution_count": 110,
   "metadata": {
    "collapsed": true
   },
   "outputs": [],
   "source": [
    "# Segment into overlapping segments\n",
    "segment_len = 20 #samples\n",
    "segment_step = 5 #samples\n",
    "segments_lst = []\n",
    "for t_start in np.arange(0, len(t) - segment_len, segment_step):\n",
    "    segments_lst.append(spectrogram[:,t_start:(t_start + segment_len)])"
   ]
  },
  {
   "cell_type": "code",
   "execution_count": 112,
   "metadata": {
    "collapsed": true
   },
   "outputs": [],
   "source": [
    "# Do pca on each segment\n",
    "X = np.zeros((segments_lst[0].shape[0] * segments_lst[0].shape[1], len(segments_lst)))\n",
    "for idx, segment in enumerate(segments_lst):\n",
    "    X[:,idx] = segment.ravel()\n"
   ]
  },
  {
   "cell_type": "code",
   "execution_count": 156,
   "metadata": {},
   "outputs": [
    {
     "data": {
      "text/plain": [
       "PCA(copy=True, iterated_power='auto', n_components=200, random_state=None,\n",
       "  svd_solver='auto', tol=0.0, whiten=True)"
      ]
     },
     "execution_count": 156,
     "metadata": {},
     "output_type": "execute_result"
    }
   ],
   "source": [
    "# Perform pca with whitening\n",
    "pca = PCA(n_components=200, whiten=True)\n",
    "pca.fit(X.T)\n",
    "X_red = pca.transform(X.T)"
   ]
  },
  {
   "cell_type": "code",
   "execution_count": 169,
   "metadata": {},
   "outputs": [
    {
     "data": {
      "text/plain": [
       "<matplotlib.image.AxesImage at 0x24717bd2550>"
      ]
     },
     "execution_count": 169,
     "metadata": {},
     "output_type": "execute_result"
    },
    {
     "data": {
      "image/png": "[encoded data removed]",
      "text/plain": [
       "<matplotlib.figure.Figure at 0x247104e7160>"
      ]
     },
     "metadata": {},
     "output_type": "display_data"
    }
   ],
   "source": [
    "# Visualize principal components\n",
    "comp = pca.components_\n",
    "a = comp[3,:].reshape((129, 20))\n",
    "plt.grid(False)\n",
    "plt.imshow(np.flipud(a), cmap='jet')"
   ]
  },
  {
   "cell_type": "code",
   "execution_count": null,
   "metadata": {
    "collapsed": true
   },
   "outputs": [],
   "source": [
    "## Do the learning algorithm\n"
   ]
  }
 ],
 "metadata": {
  "anaconda-cloud": {},
  "kernelspec": {
   "display_name": "Python [py36]",
   "language": "python",
   "name": "Python [py36]"
  },
  "language_info": {
   "codemirror_mode": {
    "name": "ipython",
    "version": 3
   },
   "file_extension": ".py",
   "mimetype": "text/x-python",
   "name": "python",
   "nbconvert_exporter": "python",
   "pygments_lexer": "ipython3",
   "version": "3.6.1"
  }
 },
 "nbformat": 4,
 "nbformat_minor": 1
}
