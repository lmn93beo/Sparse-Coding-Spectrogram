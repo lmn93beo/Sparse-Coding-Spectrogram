{
 "cells": [
  {
   "cell_type": "markdown",
   "metadata": {},
   "source": [
    "# Code for sparse coding of spectrotemporal data\n",
    "*Nhat Le, Sep 2017*"
   ]
  },
  {
   "cell_type": "code",
   "execution_count": 1,
   "metadata": {
    "collapsed": true
   },
   "outputs": [],
   "source": [
    "import numpy as np\n",
    "import matplotlib.pyplot as plt\n",
    "import seaborn\n",
    "import scipy.io.wavfile\n",
    "import scipy.signal\n",
    "import glob\n",
    "from sklearn.decomposition import PCA\n",
    "\n",
    "%matplotlib inline"
   ]
  },
  {
   "cell_type": "code",
   "execution_count": 2,
   "metadata": {
    "collapsed": true
   },
   "outputs": [],
   "source": [
    "def C_L0_norm(x):\n",
    "    '''L0 norm function for each element of a vector'''\n",
    "    if x != 0:\n",
    "        return 0.0\n",
    "    else:\n",
    "        return 1.0\n",
    "\n",
    "def C_L1_norm(x):\n",
    "    '''L1 norm function for each element of a vector'''\n",
    "    return abs(x)\n",
    "\n",
    "def C_L0_norm_deriv(x):\n",
    "    '''Derivative of C_L0_norm'''\n",
    "    if x != 0:\n",
    "        return 0.0\n",
    "    else:\n",
    "        return np.inf\n",
    "    \n",
    "def C_L1_norm(x):\n",
    "    '''Derivative of C_L1_norm'''\n",
    "    if x < 0:\n",
    "        return -1.0\n",
    "    elif x > 0:\n",
    "        return 1.0\n",
    "    else:\n",
    "        return np.inf"
   ]
  },
  {
   "cell_type": "code",
   "execution_count": 12,
   "metadata": {},
   "outputs": [
    {
     "data": {
      "text/plain": [
       "array([-1, -1,  1,  0])"
      ]
     },
     "execution_count": 12,
     "metadata": {},
     "output_type": "execute_result"
    }
   ],
   "source": [
    "np.sign([-1, -2, 1, 0])"
   ]
  },
  {
   "cell_type": "code",
   "execution_count": 8,
   "metadata": {
    "collapsed": true
   },
   "outputs": [],
   "source": [
    "def T(um, lamb, norm_type):\n",
    "    '''Threshold function as described'''\n",
    "    if norm_type == 'L0':\n",
    "        return max(um, 0.0)\n",
    "    elif norm_type == 'L1':\n",
    "        return max(um - lamb, 0.0)\n",
    "    else:\n",
    "        raise ValueError('Invalid norm type')\n",
    "\n",
    "def find_u_dot(tau, u, A, y, lamb):\n",
    "    s = T_vec(u, lamb, 'L0')\n",
    "    b = np.dot(A.T, y)\n",
    "    A_shift = np.dot(A.T, A) - np.identity(A.shape[1])\n",
    "    return (b - u - np.dot(A_shift, s)) / tau\n",
    "    \n",
    "T_vec = np.vectorize(T)\n",
    "\n",
    "def find_s(tau, A, y, lamb, niter=100):\n",
    "    # Initialize\n",
    "    u = np.zeros(A.shape[1], dtype='float')\n",
    "    for i in range(niter):\n",
    "        udot = find_u_dot(tau, u, A, y, lamb)\n",
    "        #print(udot)\n",
    "        u += udot\n",
    "        s = T_vec(u, lamb, 'L1')\n",
    "        error = y - np.dot(A, s)\n",
    "        energy = 0.5 * np.linalg.norm(error)**2 + lamb * np.linalg.norm(s, ord=1)\n",
    "        #print('u=', u)\n",
    "        print('energy=', energy)\n",
    "    return T_vec(u, lamb, 'L1')"
   ]
  },
  {
   "cell_type": "code",
   "execution_count": null,
   "metadata": {},
   "outputs": [],
   "source": [
    "y-np.dot(A,s)"
   ]
  },
  {
   "cell_type": "code",
   "execution_count": 4,
   "metadata": {
    "collapsed": true
   },
   "outputs": [],
   "source": [
    "#b = np.array([1, 1, 3], dtype='float')\n",
    "A = np.array([[1,3,4, 8], [4,5,6, 2], [0,8,11, 3]], dtype='float')\n",
    "s = np.array([3,3,4,5], dtype='float')\n",
    "#u = np.array([5, -4, 3,0], dtype='float')\n",
    "y = np.array([30, 49, 79], dtype='float')\n",
    "tau = 1.0\n",
    "lamb = 0.01"
   ]
  },
  {
   "cell_type": "code",
   "execution_count": 9,
   "metadata": {},
   "outputs": [
    {
     "name": "stdout",
     "output_type": "stream",
     "text": [
      "energy= 461081702.5\n",
      "energy= 4771.0\n",
      "energy= 461081702.5\n",
      "energy= 4771.0\n",
      "energy= 461081702.5\n",
      "energy= 4771.0\n",
      "energy= 461081702.5\n",
      "energy= 4771.0\n",
      "energy= 461081702.5\n",
      "energy= 4771.0\n",
      "energy= 461081702.5\n",
      "energy= 4771.0\n",
      "energy= 461081702.5\n",
      "energy= 4771.0\n",
      "energy= 461081702.5\n",
      "energy= 4771.0\n",
      "energy= 461081702.5\n",
      "energy= 4771.0\n",
      "energy= 461081702.5\n",
      "energy= 4771.0\n"
     ]
    }
   ],
   "source": [
    "v = find_s(tau, A, y, 3, niter=20)"
   ]
  },
  {
   "cell_type": "code",
   "execution_count": 7,
   "metadata": {},
   "outputs": [
    {
     "data": {
      "text/plain": [
       "array([ 0.,  0.,  0.,  0.])"
      ]
     },
     "execution_count": 7,
     "metadata": {},
     "output_type": "execute_result"
    }
   ],
   "source": [
    "v"
   ]
  },
  {
   "cell_type": "code",
   "execution_count": null,
   "metadata": {
    "collapsed": true
   },
   "outputs": [],
   "source": [
    "def learn_step(y, A, s, eta):\n",
    "    scol = s[:, np.newaxis]\n",
    "    ycol = y[:, np.newaxis]\n",
    "    r = ycol - np.dot(A, scol)\n",
    "    A_new = A - eta * (np.dot(r, scol.T))\n",
    "    print(np.linalg.norm(ycol - np.dot(A, scol)))\n",
    "    return A_new\n",
    "\n",
    "def do_multiple_learn_steps(y, A, s, eta, nsteps=10):\n",
    "    for i in range(nsteps):\n",
    "        A = learn_step(y, A, s, eta)\n",
    "    return A\n",
    "\n",
    "def find_optimal_A(y, s):\n",
    "    scol = s[:, np.newaxis]\n",
    "    ycol = y[:, np.newaxis]\n",
    "    n = np.dot(scol.T, scol)[0,0]\n",
    "    print(scol.shape, ycol.shape)\n",
    "    return np.dot(ycol, 1.0 / n * scol.T)"
   ]
  },
  {
   "cell_type": "code",
   "execution_count": null,
   "metadata": {},
   "outputs": [],
   "source": [
    "find_optimal_A(y, s)"
   ]
  },
  {
   "cell_type": "code",
   "execution_count": null,
   "metadata": {},
   "outputs": [],
   "source": [
    "A_best"
   ]
  },
  {
   "cell_type": "code",
   "execution_count": null,
   "metadata": {},
   "outputs": [],
   "source": [
    "#a1 = np.dot(ycol, scol.T)\n",
    "a2 = np.dot(scol.T, scol)[0,0]\n",
    "A_best = np.dot(ycol, 1.0 / a2 * scol.T)\n",
    "print(np.linalg.norm(ycol - np.dot(A, scol)))\n",
    "print(np.linalg.norm(ycol - np.dot(A_best, scol)))"
   ]
  },
  {
   "cell_type": "code",
   "execution_count": null,
   "metadata": {},
   "outputs": [],
   "source": [
    "scol = s[:, np.newaxis]\n",
    "ycol = y[:, np.newaxis]\n",
    "r = ycol - np.dot(A, scol)\n",
    "print(np.dot(r,scol.T))"
   ]
  },
  {
   "cell_type": "code",
   "execution_count": null,
   "metadata": {},
   "outputs": [],
   "source": [
    "do_multiple_learn_steps(y, A, s, eta, 100)"
   ]
  },
  {
   "cell_type": "code",
   "execution_count": null,
   "metadata": {
    "collapsed": true
   },
   "outputs": [],
   "source": [
    "s = find_s(tau, A, y, lamb, niter=100)"
   ]
  },
  {
   "cell_type": "code",
   "execution_count": null,
   "metadata": {
    "collapsed": true
   },
   "outputs": [],
   "source": [
    "A = np.random.rand(A.shape[0], A.shape[1])"
   ]
  },
  {
   "cell_type": "code",
   "execution_count": null,
   "metadata": {},
   "outputs": [],
   "source": [
    "A"
   ]
  },
  {
   "cell_type": "code",
   "execution_count": null,
   "metadata": {},
   "outputs": [],
   "source": [
    "find_s(tau,A*100,y*1000,lamb)"
   ]
  },
  {
   "cell_type": "code",
   "execution_count": null,
   "metadata": {},
   "outputs": [],
   "source": [
    "eta = 0.1\n",
    "do_multiple_learn_steps(y, A, s, eta, 20)"
   ]
  },
  {
   "cell_type": "code",
   "execution_count": null,
   "metadata": {
    "collapsed": true
   },
   "outputs": [],
   "source": [
    "soundfiles = glob.glob('./American-English/*/*.wav')\n",
    "sound_combined = np.zeros(0)\n",
    "for file in soundfiles:\n",
    "    fs, sound = scipy.io.wavfile.read(file)\n",
    "    sound_combined = np.concatenate((sound_combined, sound))"
   ]
  },
  {
   "cell_type": "code",
   "execution_count": null,
   "metadata": {},
   "outputs": [],
   "source": [
    "f,t,spectrogram = scipy.signal.spectrogram(sound_combined, fs)\n",
    "plt.figure(figsize=(20,20))\n",
    "plt.imshow(np.flipud(spectrogram)[:,:400], cmap='viridis');\n",
    "plt.grid(False)"
   ]
  },
  {
   "cell_type": "code",
   "execution_count": null,
   "metadata": {
    "collapsed": true
   },
   "outputs": [],
   "source": [
    "# Segment into overlapping segments\n",
    "segment_len = 20 #samples\n",
    "segment_step = 5 #samples\n",
    "segments_lst = []\n",
    "for t_start in np.arange(0, len(t) - segment_len, segment_step):\n",
    "    segments_lst.append(spectrogram[:,t_start:(t_start + segment_len)])"
   ]
  },
  {
   "cell_type": "code",
   "execution_count": null,
   "metadata": {
    "collapsed": true
   },
   "outputs": [],
   "source": [
    "# Do pca on each segment\n",
    "X = np.zeros((segments_lst[0].shape[0] * segments_lst[0].shape[1], len(segments_lst)))\n",
    "for idx, segment in enumerate(segments_lst):\n",
    "    X[:,idx] = segment.ravel()\n"
   ]
  },
  {
   "cell_type": "code",
   "execution_count": null,
   "metadata": {
    "collapsed": true
   },
   "outputs": [],
   "source": [
    "# Perform pca with whitening\n",
    "pca = PCA(n_components=200, whiten=True)\n",
    "pca.fit(X.T)\n",
    "X_red = pca.transform(X.T)"
   ]
  },
  {
   "cell_type": "code",
   "execution_count": null,
   "metadata": {},
   "outputs": [],
   "source": [
    "# Visualize principal components\n",
    "comp = pca.components_\n",
    "a = comp[3,:].reshape((129, 20))\n",
    "plt.grid(False)\n",
    "plt.imshow(np.flipud(a), cmap='jet')"
   ]
  },
  {
   "cell_type": "code",
   "execution_count": null,
   "metadata": {
    "collapsed": true
   },
   "outputs": [],
   "source": [
    "A = np.random.rand(comp.shape[0], nfeats)\n"
   ]
  },
  {
   "cell_type": "code",
   "execution_count": null,
   "metadata": {},
   "outputs": [],
   "source": [
    "A.shape"
   ]
  },
  {
   "cell_type": "code",
   "execution_count": null,
   "metadata": {},
   "outputs": [],
   "source": [
    "# Start learning\n",
    "comp.shape\n",
    "iters = 1\n",
    "nfeats = 800\n",
    "A = np.random.rand(comp.shape[0], nfeats)\n",
    "\n",
    "for i in range(iters):\n",
    "    # Pick a random training example\n",
    "    idx = np.random.randint(comp.shape[1])\n",
    "    y = comp[:,idx]\n",
    "    \n",
    "    # Find s\n",
    "    s = find_s(tau, A, y, lamb, niter=100)\n",
    "    print(s.shape)\n",
    "    \n",
    "    # Optimize A\n",
    "    A = find_optimal_A(y, s)\n",
    "    print(A.shape)\n",
    "    "
   ]
  },
  {
   "cell_type": "code",
   "execution_count": null,
   "metadata": {},
   "outputs": [],
   "source": [
    "find_s(tau,A,y,lamb,niter=100)"
   ]
  },
  {
   "cell_type": "code",
   "execution_count": null,
   "metadata": {},
   "outputs": [],
   "source": [
    "comp.shape"
   ]
  },
  {
   "cell_type": "code",
   "execution_count": null,
   "metadata": {
    "collapsed": true
   },
   "outputs": [],
   "source": []
  }
 ],
 "metadata": {
  "anaconda-cloud": {},
  "kernelspec": {
   "display_name": "Python [py36]",
   "language": "python",
   "name": "Python [py36]"
  },
  "language_info": {
   "codemirror_mode": {
    "name": "ipython",
    "version": 3
   },
   "file_extension": ".py",
   "mimetype": "text/x-python",
   "name": "python",
   "nbconvert_exporter": "python",
   "pygments_lexer": "ipython3",
   "version": "3.6.1"
  }
 },
 "nbformat": 4,
 "nbformat_minor": 1
}
